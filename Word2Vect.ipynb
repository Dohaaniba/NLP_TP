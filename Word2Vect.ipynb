{
  "nbformat": 4,
  "nbformat_minor": 0,
  "metadata": {
    "colab": {
      "provenance": []
    },
    "kernelspec": {
      "name": "python3",
      "display_name": "Python 3"
    },
    "language_info": {
      "name": "python"
    }
  },
  "cells": [
    {
      "cell_type": "code",
      "execution_count": 1,
      "metadata": {
        "id": "Djm1zEUJ4I10"
      },
      "outputs": [],
      "source": [
        "import nltk\n",
        "from gensim import corpora, models, similarities\n",
        "from gensim.models import Word2Vec\n",
        "from gensim.test.utils import common_texts"
      ]
    },
    {
      "cell_type": "markdown",
      "source": [
        "# ***Loading Data***\n"
      ],
      "metadata": {
        "id": "W9eYib0A4saZ"
      }
    },
    {
      "cell_type": "code",
      "source": [
        "with open (\"/text\", \"r\") as myfile:\n",
        "    text = myfile.read().splitlines()\n",
        "print(text)"
      ],
      "metadata": {
        "colab": {
          "base_uri": "https://localhost:8080/"
        },
        "id": "6CTozUOE4upN",
        "outputId": "61d87e87-6a2f-4e8c-f42e-f5b3059826df"
      },
      "execution_count": 10,
      "outputs": [
        {
          "output_type": "stream",
          "name": "stdout",
          "text": [
            "['**Morocco and Marrakech: A Tapestry of Tradition and Modernity** Morocco, located at the crossroads of Europe and Africa, is a country drenched in history, mystery, and cultural richness. A testament to the ancient civilizations that once flourished here, this North African kingdom boasts a unique blend of Arab, Berber, and European influences. At the heart of Morocco\\'s rich tapestry lies Marrakech, one of its four imperial cities and a vibrant epicenter of tradition and modernity. **Geographical Significance** Morocco is bordered by the Atlantic Ocean to the west, the Mediterranean Sea to the north, Algeria to the east and southeast, and the vast Sahara desert to the south. Its strategic location has historically made it a sought-after territory and a melting pot of cultures, religions, and trade routes. **Marrakech: The Red City** Marrakech, often referred to as \"The Red City\" due to its distinctive red-hued buildings, stands against the backdrop of the snow-capped Atlas Mountains. Established in the 11th century, it has remained a crucial political, economic, and cultural center of Morocco. **Journey through the Medina** Marrakech\\'s old town, the Medina, is a UNESCO World Heritage site and a labyrinthine maze of narrow alleys, bustling souks, and historical landmarks. The Djemaa el-Fna Square lies at the heart of the Medina and comes alive every evening with storytellers, musicians, snake charmers, and food stalls offering tantalizing Moroccan delicacies. **Palaces and Gardens** The city is also home to grand palaces like the Bahia Palace, showcasing intricate Islamic architecture, and the Saadian Tombs, remnants of the Saadian dynasty. The Majorelle Garden, restored by the fashion designer Yves Saint Laurent, is a tranquil oasis of cacti, palm trees, and cobalt blue accents. **Modern Marrakech** While tradition and history permeate Marrakech, the city is not averse to the modern world. Gueliz, the new town, is brimming with contemporary art galleries, stylish cafes, and chic boutiques, offering a stark contrast to the ancient Medina. **Moroccan Cuisine** No journey through Morocco and Marrakech would be complete without indulging in the local cuisine. Tagines, couscous, and pastilla are just a few of the many dishes that combine a plethora of flavors and spices like saffron, cumin, and mint. Paired with Moroccan mint tea, the culinary experience is truly unparalleled. **In Conclusion** Morocco, with Marrakech at its heart, offers travelers an unparalleled journey through time. The convergence of history, culture, architecture, and gastronomy makes it an enthralling destination for those seeking both adventure and reflection. As the Moroccan proverb goes, \"He who does not travel does not know the value of men.\" In the case of Morocco and Marrakech, it\\'s not just the value of men, but also the value of time, tradition, and tales that have spanned centuries.']\n"
          ]
        }
      ]
    },
    {
      "cell_type": "markdown",
      "source": [
        "#   *Remove Stars*"
      ],
      "metadata": {
        "id": "YLM9vXXD6JQV"
      }
    },
    {
      "cell_type": "code",
      "source": [
        "# Function --------------------------\n",
        "def remove_symbols(text) :\n",
        "    removed_symbols_text = []\n",
        "    for w in text:\n",
        "        mod_string = w.replace(\"**\",\"\")\n",
        "        #mod_string = w.replace(\"**\",\"\").replace(\"'\", \"\").replace(\"]\", \"\").replace(\"[\", \"\").strip()\n",
        "        removed_symbols_text.append(mod_string)\n",
        "    return removed_symbols_text[0]\n",
        "\n",
        "# Execution --------------------------\n",
        "text_no_symbols = remove_symbols(text)\n",
        "print(text_no_symbols)"
      ],
      "metadata": {
        "colab": {
          "base_uri": "https://localhost:8080/"
        },
        "id": "yyAvb6Pq84BE",
        "outputId": "bd4879b5-1e72-4469-875d-4c7e9ecbef46"
      },
      "execution_count": 11,
      "outputs": [
        {
          "output_type": "stream",
          "name": "stdout",
          "text": [
            "Morocco and Marrakech: A Tapestry of Tradition and Modernity Morocco, located at the crossroads of Europe and Africa, is a country drenched in history, mystery, and cultural richness. A testament to the ancient civilizations that once flourished here, this North African kingdom boasts a unique blend of Arab, Berber, and European influences. At the heart of Morocco's rich tapestry lies Marrakech, one of its four imperial cities and a vibrant epicenter of tradition and modernity. Geographical Significance Morocco is bordered by the Atlantic Ocean to the west, the Mediterranean Sea to the north, Algeria to the east and southeast, and the vast Sahara desert to the south. Its strategic location has historically made it a sought-after territory and a melting pot of cultures, religions, and trade routes. Marrakech: The Red City Marrakech, often referred to as \"The Red City\" due to its distinctive red-hued buildings, stands against the backdrop of the snow-capped Atlas Mountains. Established in the 11th century, it has remained a crucial political, economic, and cultural center of Morocco. Journey through the Medina Marrakech's old town, the Medina, is a UNESCO World Heritage site and a labyrinthine maze of narrow alleys, bustling souks, and historical landmarks. The Djemaa el-Fna Square lies at the heart of the Medina and comes alive every evening with storytellers, musicians, snake charmers, and food stalls offering tantalizing Moroccan delicacies. Palaces and Gardens The city is also home to grand palaces like the Bahia Palace, showcasing intricate Islamic architecture, and the Saadian Tombs, remnants of the Saadian dynasty. The Majorelle Garden, restored by the fashion designer Yves Saint Laurent, is a tranquil oasis of cacti, palm trees, and cobalt blue accents. Modern Marrakech While tradition and history permeate Marrakech, the city is not averse to the modern world. Gueliz, the new town, is brimming with contemporary art galleries, stylish cafes, and chic boutiques, offering a stark contrast to the ancient Medina. Moroccan Cuisine No journey through Morocco and Marrakech would be complete without indulging in the local cuisine. Tagines, couscous, and pastilla are just a few of the many dishes that combine a plethora of flavors and spices like saffron, cumin, and mint. Paired with Moroccan mint tea, the culinary experience is truly unparalleled. In Conclusion Morocco, with Marrakech at its heart, offers travelers an unparalleled journey through time. The convergence of history, culture, architecture, and gastronomy makes it an enthralling destination for those seeking both adventure and reflection. As the Moroccan proverb goes, \"He who does not travel does not know the value of men.\" In the case of Morocco and Marrakech, it's not just the value of men, but also the value of time, tradition, and tales that have spanned centuries.\n"
          ]
        }
      ]
    },
    {
      "cell_type": "markdown",
      "source": [
        "# ***Remove Punctuation***"
      ],
      "metadata": {
        "id": "pOZR_FpD8991"
      }
    },
    {
      "cell_type": "code",
      "source": [
        "import string\n",
        "# Function --------------------------\n",
        "def remove_punctuation(text):\n",
        "    translator = str.maketrans('','',string.punctuation)\n",
        "    text_without_punctuation = text.translate(translator)\n",
        "    return text_without_punctuation\n",
        "\n",
        "# Execution --------------------------\n",
        "text_no_punctuation = remove_punctuation(text_no_symbols)\n",
        "print(text_no_punctuation)"
      ],
      "metadata": {
        "colab": {
          "base_uri": "https://localhost:8080/"
        },
        "id": "DPbYtuYb8_qJ",
        "outputId": "8d149a19-474a-4375-f8b8-aa79ae857c03"
      },
      "execution_count": 12,
      "outputs": [
        {
          "output_type": "stream",
          "name": "stdout",
          "text": [
            "Morocco and Marrakech A Tapestry of Tradition and Modernity Morocco located at the crossroads of Europe and Africa is a country drenched in history mystery and cultural richness A testament to the ancient civilizations that once flourished here this North African kingdom boasts a unique blend of Arab Berber and European influences At the heart of Moroccos rich tapestry lies Marrakech one of its four imperial cities and a vibrant epicenter of tradition and modernity Geographical Significance Morocco is bordered by the Atlantic Ocean to the west the Mediterranean Sea to the north Algeria to the east and southeast and the vast Sahara desert to the south Its strategic location has historically made it a soughtafter territory and a melting pot of cultures religions and trade routes Marrakech The Red City Marrakech often referred to as The Red City due to its distinctive redhued buildings stands against the backdrop of the snowcapped Atlas Mountains Established in the 11th century it has remained a crucial political economic and cultural center of Morocco Journey through the Medina Marrakechs old town the Medina is a UNESCO World Heritage site and a labyrinthine maze of narrow alleys bustling souks and historical landmarks The Djemaa elFna Square lies at the heart of the Medina and comes alive every evening with storytellers musicians snake charmers and food stalls offering tantalizing Moroccan delicacies Palaces and Gardens The city is also home to grand palaces like the Bahia Palace showcasing intricate Islamic architecture and the Saadian Tombs remnants of the Saadian dynasty The Majorelle Garden restored by the fashion designer Yves Saint Laurent is a tranquil oasis of cacti palm trees and cobalt blue accents Modern Marrakech While tradition and history permeate Marrakech the city is not averse to the modern world Gueliz the new town is brimming with contemporary art galleries stylish cafes and chic boutiques offering a stark contrast to the ancient Medina Moroccan Cuisine No journey through Morocco and Marrakech would be complete without indulging in the local cuisine Tagines couscous and pastilla are just a few of the many dishes that combine a plethora of flavors and spices like saffron cumin and mint Paired with Moroccan mint tea the culinary experience is truly unparalleled In Conclusion Morocco with Marrakech at its heart offers travelers an unparalleled journey through time The convergence of history culture architecture and gastronomy makes it an enthralling destination for those seeking both adventure and reflection As the Moroccan proverb goes He who does not travel does not know the value of men In the case of Morocco and Marrakech its not just the value of men but also the value of time tradition and tales that have spanned centuries\n"
          ]
        }
      ]
    },
    {
      "cell_type": "markdown",
      "source": [
        "# ***Remove Stopwords***"
      ],
      "metadata": {
        "id": "bOsdJ9Yg9LlC"
      }
    },
    {
      "cell_type": "code",
      "source": [
        "\n",
        "import nltk\n",
        "nltk.download('stopwords')\n",
        "\n",
        "from nltk.corpus import stopwords\n",
        "# Function --------------------------\n",
        "def remove_stopwords(text):\n",
        "    return \" \".join([word for word in str(text).split() if word not in stopwords.words('english')])\n",
        "\n",
        "# Execution --------------------------\n",
        "text_no_stopwords = remove_stopwords(text_no_punctuation)\n",
        "print(text_no_stopwords)"
      ],
      "metadata": {
        "colab": {
          "base_uri": "https://localhost:8080/"
        },
        "id": "94PKmUgm9NZx",
        "outputId": "70d3e829-53d6-4da9-c48e-03ace12ea79b"
      },
      "execution_count": 14,
      "outputs": [
        {
          "output_type": "stream",
          "name": "stdout",
          "text": [
            "Morocco Marrakech A Tapestry Tradition Modernity Morocco located crossroads Europe Africa country drenched history mystery cultural richness A testament ancient civilizations flourished North African kingdom boasts unique blend Arab Berber European influences At heart Moroccos rich tapestry lies Marrakech one four imperial cities vibrant epicenter tradition modernity Geographical Significance Morocco bordered Atlantic Ocean west Mediterranean Sea north Algeria east southeast vast Sahara desert south Its strategic location historically made soughtafter territory melting pot cultures religions trade routes Marrakech The Red City Marrakech often referred The Red City due distinctive redhued buildings stands backdrop snowcapped Atlas Mountains Established 11th century remained crucial political economic cultural center Morocco Journey Medina Marrakechs old town Medina UNESCO World Heritage site labyrinthine maze narrow alleys bustling souks historical landmarks The Djemaa elFna Square lies heart Medina comes alive every evening storytellers musicians snake charmers food stalls offering tantalizing Moroccan delicacies Palaces Gardens The city also home grand palaces like Bahia Palace showcasing intricate Islamic architecture Saadian Tombs remnants Saadian dynasty The Majorelle Garden restored fashion designer Yves Saint Laurent tranquil oasis cacti palm trees cobalt blue accents Modern Marrakech While tradition history permeate Marrakech city averse modern world Gueliz new town brimming contemporary art galleries stylish cafes chic boutiques offering stark contrast ancient Medina Moroccan Cuisine No journey Morocco Marrakech would complete without indulging local cuisine Tagines couscous pastilla many dishes combine plethora flavors spices like saffron cumin mint Paired Moroccan mint tea culinary experience truly unparalleled In Conclusion Morocco Marrakech heart offers travelers unparalleled journey time The convergence history culture architecture gastronomy makes enthralling destination seeking adventure reflection As Moroccan proverb goes He travel know value men In case Morocco Marrakech value men also value time tradition tales spanned centuries\n"
          ]
        },
        {
          "output_type": "stream",
          "name": "stderr",
          "text": [
            "[nltk_data] Downloading package stopwords to /root/nltk_data...\n",
            "[nltk_data]   Unzipping corpora/stopwords.zip.\n"
          ]
        }
      ]
    },
    {
      "cell_type": "markdown",
      "source": [
        "# ***Lemmatization***"
      ],
      "metadata": {
        "id": "zSAI2Iga95Ty"
      }
    },
    {
      "cell_type": "code",
      "source": [
        "import spacy\n",
        "nlp = spacy.load('en_core_web_sm')\n",
        "\n",
        "# Function ---------------------------\n",
        "def lemmatize(text):\n",
        "    doc = nlp(text)\n",
        "    return \" \".join([token.lemma_ for token in doc])\n",
        "\n",
        "# Execution ---------------------------\n",
        "text_lemmatized = lemmatize(text_no_stopwords)\n",
        "print(text_lemmatized)"
      ],
      "metadata": {
        "colab": {
          "base_uri": "https://localhost:8080/"
        },
        "id": "C04LEh2g9693",
        "outputId": "6e618e33-67d0-4c35-8e75-0d22a3eab2be"
      },
      "execution_count": 15,
      "outputs": [
        {
          "output_type": "stream",
          "name": "stdout",
          "text": [
            "Morocco Marrakech A Tapestry Tradition Modernity Morocco locate crossroad Europe Africa country drench history mystery cultural richness a testament ancient civilization flourish north african kingdom boast unique blend arab Berber european influence at heart Moroccos rich tapestry lie Marrakech one four imperial city vibrant epicenter tradition modernity geographical Significance Morocco border Atlantic Ocean west Mediterranean Sea north Algeria east southeast vast Sahara desert south its strategic location historically make soughtafter territory melting pot culture religion trade route Marrakech the Red City Marrakech often refer the Red City due distinctive redhue building stand backdrop snowcappe Atlas Mountains establish 11th century remain crucial political economic cultural center Morocco Journey Medina Marrakechs old town Medina UNESCO World Heritage site labyrinthine maze narrow alley bustle souks historical landmark the Djemaa elfna Square lie heart Medina come alive every evening storyteller musician snake charmer food stall offer tantalize Moroccan delicacy Palaces Gardens the city also home grand palace like Bahia Palace showcase intricate islamic architecture saadian Tombs remnant saadian dynasty the Majorelle Garden restore fashion designer Yves Saint Laurent tranquil oasis cacti palm tree cobalt blue accent Modern Marrakech while tradition history permeate Marrakech city averse modern world Gueliz new town brim contemporary art gallery stylish cafe chic boutique offer stark contrast ancient Medina Moroccan Cuisine no journey Morocco Marrakech would complete without indulge local cuisine tagine couscous pastilla many dish combine plethora flavors spice like saffron cumin mint pair moroccan mint tea culinary experience truly unparalleled in Conclusion Morocco Marrakech heart offer traveler unparalleled journey time the convergence history culture architecture gastronomy make enthral destination seek adventure reflection as moroccan proverb go he travel know value man in case Morocco Marrakech value man also value time tradition tale span century\n"
          ]
        }
      ]
    },
    {
      "cell_type": "markdown",
      "source": [
        "\n",
        "# ***Tokenization***\n"
      ],
      "metadata": {
        "id": "uiVS9BN3-ECP"
      }
    },
    {
      "cell_type": "code",
      "source": [
        "import nltk\n",
        "nltk.download('punkt')\n",
        "\n",
        "from nltk.tokenize import word_tokenize\n",
        "tokenized_text = word_tokenize(text_lemmatized)\n",
        "print(tokenized_text)"
      ],
      "metadata": {
        "colab": {
          "base_uri": "https://localhost:8080/"
        },
        "id": "bj3iGFCA-L1F",
        "outputId": "1c88b56c-1389-44be-ea2d-468c78b89f21"
      },
      "execution_count": 17,
      "outputs": [
        {
          "output_type": "stream",
          "name": "stderr",
          "text": [
            "[nltk_data] Downloading package punkt to /root/nltk_data...\n",
            "[nltk_data]   Unzipping tokenizers/punkt.zip.\n"
          ]
        },
        {
          "output_type": "stream",
          "name": "stdout",
          "text": [
            "['Morocco', 'Marrakech', 'A', 'Tapestry', 'Tradition', 'Modernity', 'Morocco', 'locate', 'crossroad', 'Europe', 'Africa', 'country', 'drench', 'history', 'mystery', 'cultural', 'richness', 'a', 'testament', 'ancient', 'civilization', 'flourish', 'north', 'african', 'kingdom', 'boast', 'unique', 'blend', 'arab', 'Berber', 'european', 'influence', 'at', 'heart', 'Moroccos', 'rich', 'tapestry', 'lie', 'Marrakech', 'one', 'four', 'imperial', 'city', 'vibrant', 'epicenter', 'tradition', 'modernity', 'geographical', 'Significance', 'Morocco', 'border', 'Atlantic', 'Ocean', 'west', 'Mediterranean', 'Sea', 'north', 'Algeria', 'east', 'southeast', 'vast', 'Sahara', 'desert', 'south', 'its', 'strategic', 'location', 'historically', 'make', 'soughtafter', 'territory', 'melting', 'pot', 'culture', 'religion', 'trade', 'route', 'Marrakech', 'the', 'Red', 'City', 'Marrakech', 'often', 'refer', 'the', 'Red', 'City', 'due', 'distinctive', 'redhue', 'building', 'stand', 'backdrop', 'snowcappe', 'Atlas', 'Mountains', 'establish', '11th', 'century', 'remain', 'crucial', 'political', 'economic', 'cultural', 'center', 'Morocco', 'Journey', 'Medina', 'Marrakechs', 'old', 'town', 'Medina', 'UNESCO', 'World', 'Heritage', 'site', 'labyrinthine', 'maze', 'narrow', 'alley', 'bustle', 'souks', 'historical', 'landmark', 'the', 'Djemaa', 'elfna', 'Square', 'lie', 'heart', 'Medina', 'come', 'alive', 'every', 'evening', 'storyteller', 'musician', 'snake', 'charmer', 'food', 'stall', 'offer', 'tantalize', 'Moroccan', 'delicacy', 'Palaces', 'Gardens', 'the', 'city', 'also', 'home', 'grand', 'palace', 'like', 'Bahia', 'Palace', 'showcase', 'intricate', 'islamic', 'architecture', 'saadian', 'Tombs', 'remnant', 'saadian', 'dynasty', 'the', 'Majorelle', 'Garden', 'restore', 'fashion', 'designer', 'Yves', 'Saint', 'Laurent', 'tranquil', 'oasis', 'cacti', 'palm', 'tree', 'cobalt', 'blue', 'accent', 'Modern', 'Marrakech', 'while', 'tradition', 'history', 'permeate', 'Marrakech', 'city', 'averse', 'modern', 'world', 'Gueliz', 'new', 'town', 'brim', 'contemporary', 'art', 'gallery', 'stylish', 'cafe', 'chic', 'boutique', 'offer', 'stark', 'contrast', 'ancient', 'Medina', 'Moroccan', 'Cuisine', 'no', 'journey', 'Morocco', 'Marrakech', 'would', 'complete', 'without', 'indulge', 'local', 'cuisine', 'tagine', 'couscous', 'pastilla', 'many', 'dish', 'combine', 'plethora', 'flavors', 'spice', 'like', 'saffron', 'cumin', 'mint', 'pair', 'moroccan', 'mint', 'tea', 'culinary', 'experience', 'truly', 'unparalleled', 'in', 'Conclusion', 'Morocco', 'Marrakech', 'heart', 'offer', 'traveler', 'unparalleled', 'journey', 'time', 'the', 'convergence', 'history', 'culture', 'architecture', 'gastronomy', 'make', 'enthral', 'destination', 'seek', 'adventure', 'reflection', 'as', 'moroccan', 'proverb', 'go', 'he', 'travel', 'know', 'value', 'man', 'in', 'case', 'Morocco', 'Marrakech', 'value', 'man', 'also', 'value', 'time', 'tradition', 'tale', 'span', 'century']\n"
          ]
        }
      ]
    },
    {
      "cell_type": "markdown",
      "source": [
        "# ***Modele Word2Vec***"
      ],
      "metadata": {
        "id": "m9DxpZCU-gO-"
      }
    },
    {
      "cell_type": "code",
      "source": [
        "from gensim.models import Word2Vec\n",
        "\n",
        "model = Word2Vec(sentences=[tokenized_text], vector_size=100, window=5, min_count=1, sg=0)"
      ],
      "metadata": {
        "id": "E2Fl4az_-kXc"
      },
      "execution_count": 18,
      "outputs": []
    },
    {
      "cell_type": "markdown",
      "source": [
        "# ***Représentation vectorielle***"
      ],
      "metadata": {
        "id": "oHvqLfWd-puT"
      }
    },
    {
      "cell_type": "code",
      "source": [
        "# Extraire la représentation vectorielle d'un mot ('Morocco')\n",
        "word_vector = model.wv['Morocco']"
      ],
      "metadata": {
        "id": "AqKnbYLo-q3J"
      },
      "execution_count": 19,
      "outputs": []
    },
    {
      "cell_type": "markdown",
      "source": [
        "# ***Calcul de similarité***"
      ],
      "metadata": {
        "id": "KrObvQ42-uWs"
      }
    },
    {
      "cell_type": "code",
      "source": [
        "# Calculer la similarité entre 'Morocco' et les autres mots\n",
        "similarity_dict = {}\n",
        "for word in model.wv.key_to_index:\n",
        "    similarity = model.wv.similarity('Morocco', word)\n",
        "    similarity_dict[('Morocco', word)] = similarity\n",
        "\n",
        "# Affichage\n",
        "for key, value in similarity_dict.items():\n",
        "    print(f\"{key}: {value:.8f},\")"
      ],
      "metadata": {
        "colab": {
          "base_uri": "https://localhost:8080/"
        },
        "id": "tQSJgXHf-xX1",
        "outputId": "dbd78c42-1a67-409b-8ff1-5a93f8de0860"
      },
      "execution_count": 20,
      "outputs": [
        {
          "output_type": "stream",
          "name": "stdout",
          "text": [
            "('Morocco', 'Marrakech'): -0.00888751,\n",
            "('Morocco', 'Morocco'): 1.00000000,\n",
            "('Morocco', 'the'): -0.02240901,\n",
            "('Morocco', 'Medina'): 0.06768797,\n",
            "('Morocco', 'city'): 0.00486306,\n",
            "('Morocco', 'offer'): 0.01068953,\n",
            "('Morocco', 'history'): -0.11212663,\n",
            "('Morocco', 'tradition'): -0.11374921,\n",
            "('Morocco', 'heart'): 0.03336586,\n",
            "('Morocco', 'value'): -0.09513409,\n",
            "('Morocco', 'architecture'): -0.13427579,\n",
            "('Morocco', 'also'): 0.01036768,\n",
            "('Morocco', 'saadian'): -0.00370709,\n",
            "('Morocco', 'Red'): 0.13765508,\n",
            "('Morocco', 'Moroccan'): 0.16084917,\n",
            "('Morocco', 'century'): 0.12341348,\n",
            "('Morocco', 'like'): 0.02346492,\n",
            "('Morocco', 'mint'): 0.08564979,\n",
            "('Morocco', 'north'): 0.16067749,\n",
            "('Morocco', 'moroccan'): -0.15986335,\n",
            "('Morocco', 'journey'): -0.01813636,\n",
            "('Morocco', 'City'): -0.07160485,\n",
            "('Morocco', 'ancient'): 0.18854910,\n",
            "('Morocco', 'unparalleled'): 0.12748823,\n",
            "('Morocco', 'town'): -0.01195521,\n",
            "('Morocco', 'culture'): -0.06758684,\n",
            "('Morocco', 'man'): 0.00584295,\n",
            "('Morocco', 'make'): 0.18806581,\n",
            "('Morocco', 'in'): -0.10994848,\n",
            "('Morocco', 'lie'): -0.09543425,\n",
            "('Morocco', 'cultural'): -0.01777836,\n",
            "('Morocco', 'time'): 0.03513678,\n",
            "('Morocco', 'trade'): 0.03941136,\n",
            "('Morocco', 'religion'): 0.03387985,\n",
            "('Morocco', 'refer'): -0.15983450,\n",
            "('Morocco', 'pot'): -0.05752192,\n",
            "('Morocco', 'melting'): -0.20364754,\n",
            "('Morocco', 'territory'): -0.09721721,\n",
            "('Morocco', 'soughtafter'): 0.09381376,\n",
            "('Morocco', 'due'): -0.19939259,\n",
            "('Morocco', 'route'): 0.11823787,\n",
            "('Morocco', 'historically'): -0.07223014,\n",
            "('Morocco', 'often'): 0.01227587,\n",
            "('Morocco', 'distinctive'): 0.04597345,\n",
            "('Morocco', 'redhue'): -0.17223516,\n",
            "('Morocco', 'establish'): -0.02103283,\n",
            "('Morocco', 'building'): 0.05574261,\n",
            "('Morocco', 'center'): -0.17005850,\n",
            "('Morocco', 'maze'): 0.01752656,\n",
            "('Morocco', 'labyrinthine'): -0.03319662,\n",
            "('Morocco', 'site'): -0.08508683,\n",
            "('Morocco', 'Heritage'): 0.18374521,\n",
            "('Morocco', 'World'): -0.01662096,\n",
            "('Morocco', 'UNESCO'): 0.07870515,\n",
            "('Morocco', 'old'): -0.01749338,\n",
            "('Morocco', 'Marrakechs'): 0.05303289,\n",
            "('Morocco', 'Journey'): -0.00409239,\n",
            "('Morocco', 'economic'): -0.05620141,\n",
            "('Morocco', 'stand'): 0.07678649,\n",
            "('Morocco', 'political'): -0.05129967,\n",
            "('Morocco', 'crucial'): -0.05609367,\n",
            "('Morocco', 'remain'): -0.10183860,\n",
            "('Morocco', '11th'): -0.01320927,\n",
            "('Morocco', 'strategic'): 0.08354261,\n",
            "('Morocco', 'Mountains'): 0.13507217,\n",
            "('Morocco', 'Atlas'): -0.04020462,\n",
            "('Morocco', 'snowcappe'): -0.14779907,\n",
            "('Morocco', 'backdrop'): 0.15887532,\n",
            "('Morocco', 'location'): 0.02476691,\n",
            "('Morocco', 'Sea'): -0.03481894,\n",
            "('Morocco', 'its'): -0.06878243,\n",
            "('Morocco', 'south'): 0.10583340,\n",
            "('Morocco', 'Berber'): -0.09609402,\n",
            "('Morocco', 'arab'): -0.06524582,\n",
            "('Morocco', 'blend'): -0.06981801,\n",
            "('Morocco', 'unique'): 0.15912046,\n",
            "('Morocco', 'boast'): -0.03880663,\n",
            "('Morocco', 'kingdom'): 0.02402932,\n",
            "('Morocco', 'african'): 0.09088137,\n",
            "('Morocco', 'flourish'): -0.05300827,\n",
            "('Morocco', 'civilization'): -0.00023908,\n",
            "('Morocco', 'testament'): -0.00230553,\n",
            "('Morocco', 'a'): -0.22702263,\n",
            "('Morocco', 'richness'): 0.02789844,\n",
            "('Morocco', 'mystery'): 0.06927205,\n",
            "('Morocco', 'drench'): -0.22200835,\n",
            "('Morocco', 'country'): 0.04548194,\n",
            "('Morocco', 'Africa'): 0.04310158,\n",
            "('Morocco', 'Europe'): -0.00645654,\n",
            "('Morocco', 'crossroad'): -0.21520874,\n",
            "('Morocco', 'locate'): 0.04228325,\n",
            "('Morocco', 'Modernity'): 0.01650501,\n",
            "('Morocco', 'Tradition'): -0.07761377,\n",
            "('Morocco', 'Tapestry'): 0.03521697,\n",
            "('Morocco', 'A'): 0.06385574,\n",
            "('Morocco', 'european'): -0.10660645,\n",
            "('Morocco', 'influence'): 0.17915078,\n",
            "('Morocco', 'at'): -0.00685051,\n",
            "('Morocco', 'Atlantic'): -0.03078716,\n",
            "('Morocco', 'desert'): -0.10450877,\n",
            "('Morocco', 'Sahara'): -0.07358800,\n",
            "('Morocco', 'vast'): 0.05815089,\n",
            "('Morocco', 'southeast'): 0.18357335,\n",
            "('Morocco', 'east'): 0.09594815,\n",
            "('Morocco', 'Algeria'): 0.15269175,\n",
            "('Morocco', 'alley'): 0.01478494,\n",
            "('Morocco', 'Mediterranean'): 0.00704146,\n",
            "('Morocco', 'west'): 0.01301660,\n",
            "('Morocco', 'Ocean'): -0.18421727,\n",
            "('Morocco', 'border'): 0.00020391,\n",
            "('Morocco', 'Moroccos'): 0.03117390,\n",
            "('Morocco', 'Significance'): -0.05846627,\n",
            "('Morocco', 'geographical'): 0.06682840,\n",
            "('Morocco', 'modernity'): -0.08709896,\n",
            "('Morocco', 'epicenter'): -0.06012622,\n",
            "('Morocco', 'vibrant'): -0.08256675,\n",
            "('Morocco', 'imperial'): -0.04166898,\n",
            "('Morocco', 'four'): -0.02042644,\n",
            "('Morocco', 'one'): 0.09041703,\n",
            "('Morocco', 'tapestry'): 0.08763965,\n",
            "('Morocco', 'rich'): 0.02296224,\n",
            "('Morocco', 'narrow'): 0.10580864,\n",
            "('Morocco', 'span'): 0.11558015,\n",
            "('Morocco', 'bustle'): 0.03555112,\n",
            "('Morocco', 'plethora'): 0.18075497,\n",
            "('Morocco', 'dish'): -0.11126703,\n",
            "('Morocco', 'many'): 0.13698046,\n",
            "('Morocco', 'pastilla'): -0.07402360,\n",
            "('Morocco', 'couscous'): -0.05898019,\n",
            "('Morocco', 'tagine'): -0.02427323,\n",
            "('Morocco', 'cuisine'): -0.06037763,\n",
            "('Morocco', 'local'): -0.05850963,\n",
            "('Morocco', 'indulge'): 0.03446179,\n",
            "('Morocco', 'without'): 0.06752001,\n",
            "('Morocco', 'complete'): -0.00786646,\n",
            "('Morocco', 'would'): 0.10770985,\n",
            "('Morocco', 'no'): 0.06295393,\n",
            "('Morocco', 'Cuisine'): 0.04152097,\n",
            "('Morocco', 'contrast'): -0.08231176,\n",
            "('Morocco', 'stark'): -0.10969290,\n",
            "('Morocco', 'boutique'): -0.03251557,\n",
            "('Morocco', 'chic'): 0.10474454,\n",
            "('Morocco', 'cafe'): -0.03850893,\n",
            "('Morocco', 'stylish'): -0.14619683,\n",
            "('Morocco', 'gallery'): 0.05095733,\n",
            "('Morocco', 'art'): -0.05464647,\n",
            "('Morocco', 'contemporary'): -0.15807191,\n",
            "('Morocco', 'brim'): 0.21468833,\n",
            "('Morocco', 'combine'): 0.05721855,\n",
            "('Morocco', 'flavors'): -0.26234025,\n",
            "('Morocco', 'Gueliz'): 0.14070185,\n",
            "('Morocco', 'spice'): 0.01069793,\n",
            "('Morocco', 'case'): 0.03006058,\n",
            "('Morocco', 'know'): 0.00232434,\n",
            "('Morocco', 'travel'): -0.14220454,\n",
            "('Morocco', 'he'): 0.15176849,\n",
            "('Morocco', 'go'): 0.01186344,\n",
            "('Morocco', 'proverb'): -0.02553099,\n",
            "('Morocco', 'as'): -0.28642526,\n",
            "('Morocco', 'reflection'): 0.13172846,\n",
            "('Morocco', 'adventure'): -0.11068752,\n",
            "('Morocco', 'seek'): -0.06310585,\n",
            "('Morocco', 'destination'): 0.00942045,\n",
            "('Morocco', 'enthral'): -0.14320351,\n",
            "('Morocco', 'gastronomy'): 0.17200859,\n",
            "('Morocco', 'convergence'): 0.06474075,\n",
            "('Morocco', 'traveler'): 0.11386171,\n",
            "('Morocco', 'Conclusion'): -0.15701295,\n",
            "('Morocco', 'truly'): 0.07470477,\n",
            "('Morocco', 'experience'): 0.00149890,\n",
            "('Morocco', 'culinary'): 0.05447241,\n",
            "('Morocco', 'tea'): 0.09585824,\n",
            "('Morocco', 'pair'): -0.06672444,\n",
            "('Morocco', 'cumin'): -0.05133963,\n",
            "('Morocco', 'saffron'): 0.01974992,\n",
            "('Morocco', 'new'): 0.16915484,\n",
            "('Morocco', 'world'): -0.17805195,\n",
            "('Morocco', 'souks'): 0.08515394,\n",
            "('Morocco', 'showcase'): 0.17051077,\n",
            "('Morocco', 'Bahia'): 0.02608279,\n",
            "('Morocco', 'palace'): 0.15305623,\n",
            "('Morocco', 'grand'): -0.12146188,\n",
            "('Morocco', 'home'): -0.02425152,\n",
            "('Morocco', 'Gardens'): 0.11959738,\n",
            "('Morocco', 'Palaces'): -0.17558730,\n",
            "('Morocco', 'delicacy'): 0.06280278,\n",
            "('Morocco', 'tantalize'): -0.04723840,\n",
            "('Morocco', 'stall'): -0.02738010,\n",
            "('Morocco', 'food'): -0.06230676,\n",
            "('Morocco', 'charmer'): -0.13010404,\n",
            "('Morocco', 'snake'): -0.08933027,\n",
            "('Morocco', 'musician'): -0.25004056,\n",
            "('Morocco', 'storyteller'): 0.05058739,\n",
            "('Morocco', 'evening'): -0.09481028,\n",
            "('Morocco', 'every'): -0.03029449,\n",
            "('Morocco', 'alive'): -0.01438335,\n",
            "('Morocco', 'come'): -0.00882356,\n",
            "('Morocco', 'tale'): -0.07551026,\n",
            "('Morocco', 'elfna'): 0.12140480,\n",
            "('Morocco', 'Djemaa'): -0.07076997,\n",
            "('Morocco', 'landmark'): -0.02775864,\n",
            "('Morocco', 'historical'): -0.00268562,\n",
            "('Morocco', 'Palace'): -0.08816706,\n",
            "('Morocco', 'intricate'): -0.16146843,\n",
            "('Morocco', 'modern'): 0.06049362,\n",
            "('Morocco', 'islamic'): -0.06675974,\n",
            "('Morocco', 'averse'): 0.09199387,\n",
            "('Morocco', 'permeate'): 0.05237518,\n",
            "('Morocco', 'while'): -0.09101943,\n",
            "('Morocco', 'Modern'): -0.10085439,\n",
            "('Morocco', 'accent'): 0.07406045,\n",
            "('Morocco', 'blue'): 0.18933387,\n",
            "('Morocco', 'cobalt'): -0.01800813,\n",
            "('Morocco', 'tree'): 0.17583272,\n",
            "('Morocco', 'palm'): 0.03623012,\n",
            "('Morocco', 'cacti'): 0.00286874,\n",
            "('Morocco', 'oasis'): -0.16283336,\n",
            "('Morocco', 'tranquil'): 0.04170192,\n",
            "('Morocco', 'Laurent'): -0.11493524,\n",
            "('Morocco', 'Saint'): -0.08993801,\n",
            "('Morocco', 'Yves'): -0.03584686,\n",
            "('Morocco', 'designer'): -0.20787334,\n",
            "('Morocco', 'fashion'): -0.18519507,\n",
            "('Morocco', 'restore'): 0.01776103,\n",
            "('Morocco', 'Garden'): -0.03516037,\n",
            "('Morocco', 'Majorelle'): -0.03753875,\n",
            "('Morocco', 'dynasty'): 0.21328080,\n",
            "('Morocco', 'remnant'): -0.00640721,\n",
            "('Morocco', 'Tombs'): -0.11257558,\n",
            "('Morocco', 'Square'): -0.03716528,\n"
          ]
        }
      ]
    },
    {
      "cell_type": "code",
      "source": [
        "# Extraire les mots contextuels pour un mot central donné 'Morocco'\n",
        "most_similar_words = model.wv.most_similar('Morocco')\n",
        "\n",
        "print(most_similar_words)"
      ],
      "metadata": {
        "colab": {
          "base_uri": "https://localhost:8080/"
        },
        "id": "Zm2hIQfr_Arm",
        "outputId": "2d6066fc-bd4c-4892-98c0-0663d6900b39"
      },
      "execution_count": 21,
      "outputs": [
        {
          "output_type": "stream",
          "name": "stdout",
          "text": [
            "[('brim', 0.21468834578990936), ('dynasty', 0.2132807970046997), ('blue', 0.18933390080928802), ('ancient', 0.18854910135269165), ('make', 0.18806582689285278), ('Heritage', 0.18374522030353546), ('southeast', 0.18357336521148682), ('plethora', 0.18075498938560486), ('influence', 0.1791507601737976), ('tree', 0.17583271861076355)]\n"
          ]
        }
      ]
    }
  ]
}