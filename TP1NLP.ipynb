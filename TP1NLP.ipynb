{
  "nbformat": 4,
  "nbformat_minor": 0,
  "metadata": {
    "colab": {
      "provenance": []
    },
    "kernelspec": {
      "name": "python3",
      "display_name": "Python 3"
    },
    "language_info": {
      "name": "python"
    }
  },
  "cells": [
    {
      "cell_type": "code",
      "execution_count": 1,
      "metadata": {
        "colab": {
          "base_uri": "https://localhost:8080/",
          "height": 73
        },
        "id": "_Qeav07C8C1C",
        "outputId": "12154be5-d0ca-4b48-dbed-c1e553f33502"
      },
      "outputs": [
        {
          "output_type": "display_data",
          "data": {
            "text/plain": [
              "<IPython.core.display.HTML object>"
            ],
            "text/html": [
              "\n",
              "     <input type=\"file\" id=\"files-928fc986-b5b1-4c2d-bc9c-ab8c77c1308a\" name=\"files[]\" multiple disabled\n",
              "        style=\"border:none\" />\n",
              "     <output id=\"result-928fc986-b5b1-4c2d-bc9c-ab8c77c1308a\">\n",
              "      Upload widget is only available when the cell has been executed in the\n",
              "      current browser session. Please rerun this cell to enable.\n",
              "      </output>\n",
              "      <script>// Copyright 2017 Google LLC\n",
              "//\n",
              "// Licensed under the Apache License, Version 2.0 (the \"License\");\n",
              "// you may not use this file except in compliance with the License.\n",
              "// You may obtain a copy of the License at\n",
              "//\n",
              "//      http://www.apache.org/licenses/LICENSE-2.0\n",
              "//\n",
              "// Unless required by applicable law or agreed to in writing, software\n",
              "// distributed under the License is distributed on an \"AS IS\" BASIS,\n",
              "// WITHOUT WARRANTIES OR CONDITIONS OF ANY KIND, either express or implied.\n",
              "// See the License for the specific language governing permissions and\n",
              "// limitations under the License.\n",
              "\n",
              "/**\n",
              " * @fileoverview Helpers for google.colab Python module.\n",
              " */\n",
              "(function(scope) {\n",
              "function span(text, styleAttributes = {}) {\n",
              "  const element = document.createElement('span');\n",
              "  element.textContent = text;\n",
              "  for (const key of Object.keys(styleAttributes)) {\n",
              "    element.style[key] = styleAttributes[key];\n",
              "  }\n",
              "  return element;\n",
              "}\n",
              "\n",
              "// Max number of bytes which will be uploaded at a time.\n",
              "const MAX_PAYLOAD_SIZE = 100 * 1024;\n",
              "\n",
              "function _uploadFiles(inputId, outputId) {\n",
              "  const steps = uploadFilesStep(inputId, outputId);\n",
              "  const outputElement = document.getElementById(outputId);\n",
              "  // Cache steps on the outputElement to make it available for the next call\n",
              "  // to uploadFilesContinue from Python.\n",
              "  outputElement.steps = steps;\n",
              "\n",
              "  return _uploadFilesContinue(outputId);\n",
              "}\n",
              "\n",
              "// This is roughly an async generator (not supported in the browser yet),\n",
              "// where there are multiple asynchronous steps and the Python side is going\n",
              "// to poll for completion of each step.\n",
              "// This uses a Promise to block the python side on completion of each step,\n",
              "// then passes the result of the previous step as the input to the next step.\n",
              "function _uploadFilesContinue(outputId) {\n",
              "  const outputElement = document.getElementById(outputId);\n",
              "  const steps = outputElement.steps;\n",
              "\n",
              "  const next = steps.next(outputElement.lastPromiseValue);\n",
              "  return Promise.resolve(next.value.promise).then((value) => {\n",
              "    // Cache the last promise value to make it available to the next\n",
              "    // step of the generator.\n",
              "    outputElement.lastPromiseValue = value;\n",
              "    return next.value.response;\n",
              "  });\n",
              "}\n",
              "\n",
              "/**\n",
              " * Generator function which is called between each async step of the upload\n",
              " * process.\n",
              " * @param {string} inputId Element ID of the input file picker element.\n",
              " * @param {string} outputId Element ID of the output display.\n",
              " * @return {!Iterable<!Object>} Iterable of next steps.\n",
              " */\n",
              "function* uploadFilesStep(inputId, outputId) {\n",
              "  const inputElement = document.getElementById(inputId);\n",
              "  inputElement.disabled = false;\n",
              "\n",
              "  const outputElement = document.getElementById(outputId);\n",
              "  outputElement.innerHTML = '';\n",
              "\n",
              "  const pickedPromise = new Promise((resolve) => {\n",
              "    inputElement.addEventListener('change', (e) => {\n",
              "      resolve(e.target.files);\n",
              "    });\n",
              "  });\n",
              "\n",
              "  const cancel = document.createElement('button');\n",
              "  inputElement.parentElement.appendChild(cancel);\n",
              "  cancel.textContent = 'Cancel upload';\n",
              "  const cancelPromise = new Promise((resolve) => {\n",
              "    cancel.onclick = () => {\n",
              "      resolve(null);\n",
              "    };\n",
              "  });\n",
              "\n",
              "  // Wait for the user to pick the files.\n",
              "  const files = yield {\n",
              "    promise: Promise.race([pickedPromise, cancelPromise]),\n",
              "    response: {\n",
              "      action: 'starting',\n",
              "    }\n",
              "  };\n",
              "\n",
              "  cancel.remove();\n",
              "\n",
              "  // Disable the input element since further picks are not allowed.\n",
              "  inputElement.disabled = true;\n",
              "\n",
              "  if (!files) {\n",
              "    return {\n",
              "      response: {\n",
              "        action: 'complete',\n",
              "      }\n",
              "    };\n",
              "  }\n",
              "\n",
              "  for (const file of files) {\n",
              "    const li = document.createElement('li');\n",
              "    li.append(span(file.name, {fontWeight: 'bold'}));\n",
              "    li.append(span(\n",
              "        `(${file.type || 'n/a'}) - ${file.size} bytes, ` +\n",
              "        `last modified: ${\n",
              "            file.lastModifiedDate ? file.lastModifiedDate.toLocaleDateString() :\n",
              "                                    'n/a'} - `));\n",
              "    const percent = span('0% done');\n",
              "    li.appendChild(percent);\n",
              "\n",
              "    outputElement.appendChild(li);\n",
              "\n",
              "    const fileDataPromise = new Promise((resolve) => {\n",
              "      const reader = new FileReader();\n",
              "      reader.onload = (e) => {\n",
              "        resolve(e.target.result);\n",
              "      };\n",
              "      reader.readAsArrayBuffer(file);\n",
              "    });\n",
              "    // Wait for the data to be ready.\n",
              "    let fileData = yield {\n",
              "      promise: fileDataPromise,\n",
              "      response: {\n",
              "        action: 'continue',\n",
              "      }\n",
              "    };\n",
              "\n",
              "    // Use a chunked sending to avoid message size limits. See b/62115660.\n",
              "    let position = 0;\n",
              "    do {\n",
              "      const length = Math.min(fileData.byteLength - position, MAX_PAYLOAD_SIZE);\n",
              "      const chunk = new Uint8Array(fileData, position, length);\n",
              "      position += length;\n",
              "\n",
              "      const base64 = btoa(String.fromCharCode.apply(null, chunk));\n",
              "      yield {\n",
              "        response: {\n",
              "          action: 'append',\n",
              "          file: file.name,\n",
              "          data: base64,\n",
              "        },\n",
              "      };\n",
              "\n",
              "      let percentDone = fileData.byteLength === 0 ?\n",
              "          100 :\n",
              "          Math.round((position / fileData.byteLength) * 100);\n",
              "      percent.textContent = `${percentDone}% done`;\n",
              "\n",
              "    } while (position < fileData.byteLength);\n",
              "  }\n",
              "\n",
              "  // All done.\n",
              "  yield {\n",
              "    response: {\n",
              "      action: 'complete',\n",
              "    }\n",
              "  };\n",
              "}\n",
              "\n",
              "scope.google = scope.google || {};\n",
              "scope.google.colab = scope.google.colab || {};\n",
              "scope.google.colab._files = {\n",
              "  _uploadFiles,\n",
              "  _uploadFilesContinue,\n",
              "};\n",
              "})(self);\n",
              "</script> "
            ]
          },
          "metadata": {}
        },
        {
          "output_type": "stream",
          "name": "stdout",
          "text": [
            "Saving kaggle.json to kaggle.json\n"
          ]
        }
      ],
      "source": [
        "#this is the fisrt thing we do importing the file kaggle.json\n",
        "!pip install -q kaggle\n",
        "from google.colab import files\n",
        "files.upload()\n",
        "!mkdir -p ~/.kaggle\n",
        "!cp kaggle.json ~/.kaggle/\n",
        "!chmod 600 ~/.kaggle/kaggle.json"
      ]
    },
    {
      "cell_type": "code",
      "source": [
        "!kaggle datasets download -d thoughtvector/customer-support-on-twitter"
      ],
      "metadata": {
        "colab": {
          "base_uri": "https://localhost:8080/"
        },
        "id": "yxzS54Wv9uVP",
        "outputId": "69f32042-47d0-4c47-d45e-1e01e03f016a"
      },
      "execution_count": 2,
      "outputs": [
        {
          "output_type": "stream",
          "name": "stdout",
          "text": [
            "Downloading customer-support-on-twitter.zip to /content\n",
            " 96% 162M/169M [00:01<00:00, 99.5MB/s]\n",
            "100% 169M/169M [00:01<00:00, 90.1MB/s]\n"
          ]
        }
      ]
    },
    {
      "cell_type": "code",
      "source": [
        "!unzip /content/customer-support-on-twitter.zip"
      ],
      "metadata": {
        "colab": {
          "base_uri": "https://localhost:8080/"
        },
        "id": "2yqVYadB9xsm",
        "outputId": "5b0cf833-25d0-476d-8c2e-5eeec93cf02f"
      },
      "execution_count": 3,
      "outputs": [
        {
          "output_type": "stream",
          "name": "stdout",
          "text": [
            "Archive:  /content/customer-support-on-twitter.zip\n",
            "  inflating: sample.csv              \n",
            "  inflating: twcs/twcs.csv           \n"
          ]
        }
      ]
    },
    {
      "cell_type": "code",
      "source": [
        "import pandas as pd\n",
        "import numpy as np\n",
        "import matplotlib.pyplot as plt"
      ],
      "metadata": {
        "id": "ge6JP-H990bs"
      },
      "execution_count": 4,
      "outputs": []
    },
    {
      "cell_type": "code",
      "source": [
        "df=pd.read_csv('/content/sample.csv')"
      ],
      "metadata": {
        "id": "hlsqEbrc-qHo"
      },
      "execution_count": 5,
      "outputs": []
    },
    {
      "cell_type": "code",
      "source": [
        "print(df.head())"
      ],
      "metadata": {
        "colab": {
          "base_uri": "https://localhost:8080/"
        },
        "id": "SglddTFS-t6A",
        "outputId": "4f798f54-6e2f-4e99-ece6-458f9f7d83a7"
      },
      "execution_count": 15,
      "outputs": [
        {
          "output_type": "stream",
          "name": "stdout",
          "text": [
            "   tweet_id     author_id  inbound                      created_at  \\\n",
            "0    119237        105834     True  Wed Oct 11 06:55:44 +0000 2017   \n",
            "1    119238  ChaseSupport    False  Wed Oct 11 13:25:49 +0000 2017   \n",
            "2    119239        105835     True  Wed Oct 11 13:00:09 +0000 2017   \n",
            "3    119240  VirginTrains    False  Tue Oct 10 15:16:08 +0000 2017   \n",
            "4    119241        105836     True  Tue Oct 10 15:17:21 +0000 2017   \n",
            "\n",
            "                                                text response_tweet_id  \\\n",
            "0  @AppleSupport causing the reply to be disregar...            119236   \n",
            "1  @105835 Your business means a lot to us. Pleas...               NaN   \n",
            "2  @76328 I really hope you all change but I'm su...            119238   \n",
            "3  @105836 LiveChat is online at the moment - htt...            119241   \n",
            "4  @VirginTrains see attached error message. I've...            119243   \n",
            "\n",
            "   in_response_to_tweet_id  \n",
            "0                      NaN  \n",
            "1                 119239.0  \n",
            "2                      NaN  \n",
            "3                 119242.0  \n",
            "4                 119240.0  \n"
          ]
        }
      ]
    },
    {
      "cell_type": "code",
      "source": [
        "import os\n",
        "\n",
        "# Afficher le contenu du répertoire pour vérifier le nom du fichier extrait\n",
        "print(os.listdir('/content/'))\n",
        "\n",
        "# Charger les données dans un DataFrame en utilisant le bon nom de fichier\n",
        "df = pd.read_csv('/content/sample.csv', usecols=['tweet_id', 'text'])\n",
        "\n",
        "# Mise en minuscules\n",
        "df['text_preprocessing'] = df['text'].str.lower()\n",
        "\n",
        "# Afficher les premières lignes du DataFrame après nettoyage\n",
        "print(df.head())\n"
      ],
      "metadata": {
        "colab": {
          "base_uri": "https://localhost:8080/"
        },
        "id": "ofQ7ldwaARqu",
        "outputId": "2b003ca1-3dd3-4023-a540-1a090242ff6d"
      },
      "execution_count": 19,
      "outputs": [
        {
          "output_type": "stream",
          "name": "stdout",
          "text": [
            "['.config', 'sample.csv', 'twcs', 'customer-support-on-twitter.zip', 'kaggle.json', 'sample_data']\n",
            "   tweet_id                                               text  \\\n",
            "0    119237  @AppleSupport causing the reply to be disregar...   \n",
            "1    119238  @105835 Your business means a lot to us. Pleas...   \n",
            "2    119239  @76328 I really hope you all change but I'm su...   \n",
            "3    119240  @105836 LiveChat is online at the moment - htt...   \n",
            "4    119241  @VirginTrains see attached error message. I've...   \n",
            "\n",
            "                                  text_preprocessing  \n",
            "0  @applesupport causing the reply to be disregar...  \n",
            "1  @105835 your business means a lot to us. pleas...  \n",
            "2  @76328 i really hope you all change but i'm su...  \n",
            "3  @105836 livechat is online at the moment - htt...  \n",
            "4  @virgintrains see attached error message. i've...  \n"
          ]
        }
      ]
    },
    {
      "cell_type": "code",
      "source": [
        "# Suppression des ponctuations\n",
        "df['text_preprocessing'] = df['text_preprocessing'].apply(lambda x: re.sub(r'[^\\w\\s]', '', x))\n",
        "print(df.head())"
      ],
      "metadata": {
        "colab": {
          "base_uri": "https://localhost:8080/"
        },
        "id": "df0h33CQBJ2h",
        "outputId": "6b0879bf-e43e-4662-93da-319f840acd27"
      },
      "execution_count": 20,
      "outputs": [
        {
          "output_type": "stream",
          "name": "stdout",
          "text": [
            "   tweet_id                                               text  \\\n",
            "0    119237  @AppleSupport causing the reply to be disregar...   \n",
            "1    119238  @105835 Your business means a lot to us. Pleas...   \n",
            "2    119239  @76328 I really hope you all change but I'm su...   \n",
            "3    119240  @105836 LiveChat is online at the moment - htt...   \n",
            "4    119241  @VirginTrains see attached error message. I've...   \n",
            "\n",
            "                                  text_preprocessing  \n",
            "0  applesupport causing the reply to be disregard...  \n",
            "1  105835 your business means a lot to us please ...  \n",
            "2  76328 i really hope you all change but im sure...  \n",
            "3  105836 livechat is online at the moment  https...  \n",
            "4  virgintrains see attached error message ive tr...  \n"
          ]
        }
      ]
    },
    {
      "cell_type": "code",
      "source": [
        "#supprime les mots tel que \"is\" ,\"the\" , ... etc\n",
        "stop_words = set(stopwords.words('english'))\n",
        "df['text_preprocessing'] = df['text_preprocessing'].apply(lambda x: ' '.join([word for word in word_tokenize(x) if word.lower() not in stop_words]))\n",
        "print(df.head())"
      ],
      "metadata": {
        "colab": {
          "base_uri": "https://localhost:8080/"
        },
        "id": "_JeOv3HGBRWF",
        "outputId": "b76636f8-1c43-4840-f827-fa42b2d5ac2b"
      },
      "execution_count": 21,
      "outputs": [
        {
          "output_type": "stream",
          "name": "stdout",
          "text": [
            "   tweet_id                                               text  \\\n",
            "0    119237  @AppleSupport causing the reply to be disregar...   \n",
            "1    119238  @105835 Your business means a lot to us. Pleas...   \n",
            "2    119239  @76328 I really hope you all change but I'm su...   \n",
            "3    119240  @105836 LiveChat is online at the moment - htt...   \n",
            "4    119241  @VirginTrains see attached error message. I've...   \n",
            "\n",
            "                                  text_preprocessing  \n",
            "0  applesupport causing reply disregarded tapped ...  \n",
            "1  105835 business means lot us please dm name zi...  \n",
            "2         76328 really hope change im sure wont dont  \n",
            "3  105836 livechat online moment httpstcosy94vtu8...  \n",
            "4  virgintrains see attached error message ive tr...  \n"
          ]
        }
      ]
    },
    {
      "cell_type": "code",
      "source": [
        "#suppression des mots frequent\n",
        "from collections import Counter\n",
        "\n",
        "# Calculer la fréquence de chaque mot dans le text\n",
        "word_freq = Counter()\n",
        "for text in df['text_preprocessing']:\n",
        "    word_freq.update(text.split())\n",
        "\n",
        "# Identifier les mots fréquents à supprimer\n",
        "SEUIL_FRÉQUENCE = 30\n",
        "stopwords = set()\n",
        "for word, freq in word_freq.items():\n",
        "    if freq > SEUIL_FRÉQUENCE:  # SEUIL_FRÉQUENCE est un nombre que vous définissez\n",
        "        stopwords.add(word)\n",
        "\n",
        "# Supprimer les mots fréquents de chaque texte\n",
        "df['text_preprocessing'] = df['text_preprocessing'].apply(lambda x: ' '.join([word for word in x.split() if word not in stopwords]))\n",
        "print(df.head())"
      ],
      "metadata": {
        "colab": {
          "base_uri": "https://localhost:8080/"
        },
        "id": "yRabfu0kBTLB",
        "outputId": "af2be4f5-b913-4745-98af-7df7b791fa3c"
      },
      "execution_count": 22,
      "outputs": [
        {
          "output_type": "stream",
          "name": "stdout",
          "text": [
            "   tweet_id                                               text  \\\n",
            "0    119237  @AppleSupport causing the reply to be disregar...   \n",
            "1    119238  @105835 Your business means a lot to us. Pleas...   \n",
            "2    119239  @76328 I really hope you all change but I'm su...   \n",
            "3    119240  @105836 LiveChat is online at the moment - htt...   \n",
            "4    119241  @VirginTrains see attached error message. I've...   \n",
            "\n",
            "                                  text_preprocessing  \n",
            "0  applesupport causing reply disregarded tapped ...  \n",
            "1  105835 business means lot us please dm name zi...  \n",
            "2         76328 really hope change im sure wont dont  \n",
            "3  105836 livechat online moment httpstcosy94vtu8...  \n",
            "4  virgintrains see attached error message ive tr...  \n"
          ]
        }
      ]
    },
    {
      "cell_type": "code",
      "source": [
        "#suppression des mots rares :\n",
        "from collections import Counter\n",
        "\n",
        "# Calculer la fréquence de chaque mot dans le text\n",
        "word_freq = Counter()\n",
        "for text in df['text_preprocessing']:\n",
        "    word_freq.update(text.split())\n",
        "\n",
        "# Identifier les mots fréquents à supprimer\n",
        "SEUIL_FRÉQUENCE_RARE = 1\n",
        "mots_rares = set(word for word, freq in word_freq.items() if freq <= SEUIL_FRÉQUENCE_RARE)\n",
        "\n",
        "# Supprimer les mots rares de chaque texte\n",
        "df['text_preprocessing'] = df['text_preprocessing'].apply(lambda x: ' '.join([word for word in x.split() if word not in mots_rares]))\n",
        "print(df.head())"
      ],
      "metadata": {
        "colab": {
          "base_uri": "https://localhost:8080/"
        },
        "id": "DMKa_cy0BmWm",
        "outputId": "e4cf5796-921b-40de-8c47-855bab339f29"
      },
      "execution_count": 23,
      "outputs": [
        {
          "output_type": "stream",
          "name": "stdout",
          "text": [
            "   tweet_id                                               text  \\\n",
            "0    119237  @AppleSupport causing the reply to be disregar...   \n",
            "1    119238  @105835 Your business means a lot to us. Pleas...   \n",
            "2    119239  @76328 I really hope you all change but I'm su...   \n",
            "3    119240  @105836 LiveChat is online at the moment - htt...   \n",
            "4    119241  @VirginTrains see attached error message. I've...   \n",
            "\n",
            "                                  text_preprocessing  \n",
            "0                                 applesupport reply  \n",
            "1           means lot us please dm name code concern  \n",
            "2                             hope im sure wont dont  \n",
            "3  105836 moment 031 031 option 1 4 3 message cal...  \n",
            "4  virgintrains see message ive tried several tim...  \n"
          ]
        }
      ]
    },
    {
      "cell_type": "code",
      "source": [
        "# Stemming : running --> run\n",
        "ps = PorterStemmer()\n",
        "df['text_preprocessing'] = df['text_preprocessing'].apply(lambda x: ' '.join([ps.stem(word) for word in word_tokenize(x)]))\n",
        "print(df.head())"
      ],
      "metadata": {
        "colab": {
          "base_uri": "https://localhost:8080/"
        },
        "id": "zw2vSq5-BvLf",
        "outputId": "b395378e-e3f9-4987-d649-dfa46b180612"
      },
      "execution_count": 24,
      "outputs": [
        {
          "output_type": "stream",
          "name": "stdout",
          "text": [
            "   tweet_id                                               text  \\\n",
            "0    119237  @AppleSupport causing the reply to be disregar...   \n",
            "1    119238  @105835 Your business means a lot to us. Pleas...   \n",
            "2    119239  @76328 I really hope you all change but I'm su...   \n",
            "3    119240  @105836 LiveChat is online at the moment - htt...   \n",
            "4    119241  @VirginTrains see attached error message. I've...   \n",
            "\n",
            "                                  text_preprocessing  \n",
            "0                                 applesupport repli  \n",
            "1             mean lot us pleas dm name code concern  \n",
            "2                             hope im sure wont dont  \n",
            "3  105836 moment 031 031 option 1 4 3 messag call...  \n",
            "4  virgintrain see messag ive tri sever time past...  \n"
          ]
        }
      ]
    },
    {
      "cell_type": "code",
      "source": [
        "# Suppression des émojis, des émoticônes, des URL, des balises HTML\n",
        "df['text_preprocessing'] = df['text_preprocessing'].apply(lambda x: re.sub(r'\\W', ' ', x))\n",
        "print(df.head())"
      ],
      "metadata": {
        "colab": {
          "base_uri": "https://localhost:8080/"
        },
        "id": "C4l060ZgBxAZ",
        "outputId": "e0c02998-8ff2-4607-ed3f-b06c3e28684e"
      },
      "execution_count": 25,
      "outputs": [
        {
          "output_type": "stream",
          "name": "stdout",
          "text": [
            "   tweet_id                                               text  \\\n",
            "0    119237  @AppleSupport causing the reply to be disregar...   \n",
            "1    119238  @105835 Your business means a lot to us. Pleas...   \n",
            "2    119239  @76328 I really hope you all change but I'm su...   \n",
            "3    119240  @105836 LiveChat is online at the moment - htt...   \n",
            "4    119241  @VirginTrains see attached error message. I've...   \n",
            "\n",
            "                                  text_preprocessing  \n",
            "0                                 applesupport repli  \n",
            "1             mean lot us pleas dm name code concern  \n",
            "2                             hope im sure wont dont  \n",
            "3  105836 moment 031 031 option 1 4 3 messag call...  \n",
            "4  virgintrain see messag ive tri sever time past...  \n"
          ]
        }
      ]
    },
    {
      "cell_type": "code",
      "source": [
        "df['text_cleaned'] = df['text_preprocessing']"
      ],
      "metadata": {
        "id": "Gv4E_EB3Bz8P"
      },
      "execution_count": 26,
      "outputs": []
    },
    {
      "cell_type": "code",
      "source": [
        "df_resultat = df[['tweet_id', 'text', 'text_cleaned']]\n",
        "print(df_resultat)"
      ],
      "metadata": {
        "colab": {
          "base_uri": "https://localhost:8080/"
        },
        "id": "ufcxkiBNB4AR",
        "outputId": "5a98d2ff-c1eb-43e7-911b-01d3656292fd"
      },
      "execution_count": 27,
      "outputs": [
        {
          "output_type": "stream",
          "name": "stdout",
          "text": [
            "    tweet_id                                               text  \\\n",
            "0     119237  @AppleSupport causing the reply to be disregar...   \n",
            "1     119238  @105835 Your business means a lot to us. Pleas...   \n",
            "2     119239  @76328 I really hope you all change but I'm su...   \n",
            "3     119240  @105836 LiveChat is online at the moment - htt...   \n",
            "4     119241  @VirginTrains see attached error message. I've...   \n",
            "..       ...                                                ...   \n",
            "88    119330  @105860 I wish Amazon had an option of where I...   \n",
            "89    119331  They reschedule my shit for tomorrow https://t...   \n",
            "90    119332  @105861 Hey Sara, sorry to hear of the issues ...   \n",
            "91    119333  @Tesco bit of both - finding the layout cumber...   \n",
            "92    119335  @105861 If that doesn't help please DM your fu...   \n",
            "\n",
            "                                         text_cleaned  \n",
            "0                                  applesupport repli  \n",
            "1              mean lot us pleas dm name code concern  \n",
            "2                              hope im sure wont dont  \n",
            "3   105836 moment 031 031 option 1 4 3 messag call...  \n",
            "4   virgintrain see messag ive tri sever time past...  \n",
            "..                                                ...  \n",
            "88                            option get up store lot  \n",
            "89                                                     \n",
            "90                         105861 hey sorri hear issu  \n",
            "91                                          tesco get  \n",
            "92  105861 doesnt help pleas dm full name address ...  \n",
            "\n",
            "[93 rows x 3 columns]\n"
          ]
        }
      ]
    }
  ]
}